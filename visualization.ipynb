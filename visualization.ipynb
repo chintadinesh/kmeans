{
 "cells": [
  {
   "cell_type": "code",
   "execution_count": 12,
   "metadata": {},
   "outputs": [],
   "source": [
    "import pandas as pd\n"
   ]
  },
  {
   "cell_type": "code",
   "execution_count": 13,
   "metadata": {},
   "outputs": [],
   "source": [
    "import logging\n",
    "# Step 1: Create a logger object\n",
    "logger = logging.getLogger('my_logger')\n",
    "\n",
    "# Step 2: Set the logging level\n",
    "logger.setLevel(logging.DEBUG)"
   ]
  },
  {
   "cell_type": "code",
   "execution_count": 14,
   "metadata": {},
   "outputs": [],
   "source": [
    "def parse(file_name=\"input/random-n2048-d16-c16.txt\"):\n",
    "  \n",
    "  lns = []\n",
    "  with open(file_name) as fl:\n",
    "    n = 0\n",
    "    for ln in fl:\n",
    "      n += 1\n",
    "      if n==1: continue\n",
    "      lns.append([float(i) for i in ln.split()[1:]])\n",
    "  return lns\n"
   ]
  },
  {
   "cell_type": "code",
   "execution_count": 15,
   "metadata": {},
   "outputs": [],
   "source": [
    "pts = parse()\n"
   ]
  },
  {
   "cell_type": "code",
   "execution_count": 16,
   "metadata": {},
   "outputs": [],
   "source": [
    "logger.info(len(pts))\n",
    "logger.info( \"First point = {}\".format(pts[0]) )"
   ]
  },
  {
   "cell_type": "code",
   "execution_count": 17,
   "metadata": {},
   "outputs": [],
   "source": [
    "import numpy as np\n",
    "import matplotlib.pyplot as plt\n",
    "from sklearn.cluster import KMeans"
   ]
  },
  {
   "cell_type": "code",
   "execution_count": 18,
   "metadata": {},
   "outputs": [],
   "source": [
    "def readLabels(input_file=\"output/2048.txt\"):\n",
    "  labels = []\n",
    "  with open(input_file) as fl:\n",
    "    for ln in fl:\n",
    "      labels.append(int(ln))\n",
    "  return labels\n",
    "\n",
    "def readCentroids(input_file=\"output/2048.centroids.txt\"):\n",
    "  pts = []\n",
    "  with open(input_file) as fl:\n",
    "    for ln in fl:\n",
    "      pts.append([float(i) for i in ln.split()])\n",
    "  return pts "
   ]
  },
  {
   "cell_type": "code",
   "execution_count": 19,
   "metadata": {},
   "outputs": [
    {
     "name": "stderr",
     "output_type": "stream",
     "text": [
      "/home/dinesh/.local/lib/python3.8/site-packages/sklearn/cluster/_kmeans.py:1416: FutureWarning: The default value of `n_init` will change from 10 to 'auto' in 1.4. Set the value of `n_init` explicitly to suppress the warning\n",
      "  super()._check_params_vs_input(X, default_n_init=10)\n",
      "/home/dinesh/.local/lib/python3.8/site-packages/sklearn/cluster/_kmeans.py:1416: RuntimeWarning: Explicit initial center position passed: performing only one init in KMeans instead of n_init=10.\n",
      "  super()._check_params_vs_input(X, default_n_init=10)\n"
     ]
    }
   ],
   "source": [
    "init_cent = np.array(readCentroids(\"initial.txt\"))\n",
    "\n",
    "# Create KMeans instance\n",
    "#kmeans = KMeans(n_clusters=16, init='random', random_state=1)\n",
    "kmeans = KMeans(n_clusters=16, init=init_cent)\n",
    "\n",
    "X = np.array(pts)\n",
    "# Sample data\n",
    "\n",
    "\n",
    "# Fit the model\n",
    "kmeans.fit(X)\n",
    "\n",
    "# Predict the clusters\n",
    "labels = kmeans.predict(X)\n",
    "\n",
    "# Get the cluster centroids\n",
    "centroids = kmeans.cluster_centers_\n",
    "\n",
    "# Print results\n",
    "#print(\"Cluster labels:\", labels)\n",
    "#print(\"Centroids:\", centroids)\n",
    "\n"
   ]
  },
  {
   "cell_type": "code",
   "execution_count": 20,
   "metadata": {},
   "outputs": [
    {
     "name": "stderr",
     "output_type": "stream",
     "text": [
      "<ipython-input-20-8b7d7f1d8452>:3: UserWarning: No data for colormapping provided via 'c'. Parameters 'cmap' will be ignored\n",
      "  plt.scatter(X[:, 0], X[:, 1], c=\"red\", s=10, cmap='viridis')\n"
     ]
    },
    {
     "data": {
      "image/png": "[encoded data removed]",
      "text/plain": [
       "<Figure size 432x288 with 1 Axes>"
      ]
     },
     "metadata": {
      "needs_background": "light"
     },
     "output_type": "display_data"
    }
   ],
   "source": [
    "# Plot the data and centroids\n",
    "#plt.scatter(X[:, 0], X[:, 1], c=labels, s=10, cmap='viridis')\n",
    "plt.scatter(X[:, 0], X[:, 1], c=\"red\", s=10, cmap='viridis')\n",
    "plt.scatter(centroids[:, 0], centroids[:, 1], c='green', s=10, alpha=0.5)\n",
    "plt.show()"
   ]
  },
  {
   "cell_type": "code",
   "execution_count": 21,
   "metadata": {},
   "outputs": [],
   "source": [
    "import subprocess\n",
    "import os\n",
    "\n",
    "if not os.path.exists(\"output\"): os.mkdir(\"output\")\n"
   ]
  },
  {
   "cell_type": "code",
   "execution_count": 22,
   "metadata": {},
   "outputs": [],
   "source": [
    "def plot():\n",
    "  lbls = readLabels()\n",
    "  cnts = np.array(readCentroids())\n",
    "\n",
    "  # Plot the data and centroids\n",
    "  plt.scatter(X[:, 0], X[:, 1], c=lbls, s=1, cmap='viridis')\n",
    "  plt.scatter(cnts[:, 0], cnts[:, 1], c='red', s=20, alpha=0.5)\n",
    "  plt.show()\n",
    "  # Plot the data and centroids\n",
    "  plt.scatter(centroids[:, 0], centroids[:, 1], c='red', s=10, alpha=0.5)\n",
    "  plt.scatter(cnts[:, 0], cnts[:, 1], c='blue', s=10, alpha=0.5)\n",
    "  plt.show()"
   ]
  },
  {
   "cell_type": "code",
   "execution_count": 23,
   "metadata": {},
   "outputs": [
    {
     "data": {
      "image/png": "[encoded data removed]",
      "text/plain": [
       "<Figure size 432x288 with 1 Axes>"
      ]
     },
     "metadata": {
      "needs_background": "light"
     },
     "output_type": "display_data"
    },
    {
     "data": {
      "image/png": "[encoded data removed]",
      "text/plain": [
       "<Figure size 432x288 with 1 Axes>"
      ]
     },
     "metadata": {
      "needs_background": "light"
     },
     "output_type": "display_data"
    }
   ],
   "source": [
    "\n",
    "subprocess.run(\"./kmeans -k 16 -d 16 -i input/random-n2048-d16-c16.txt -c > output/2048.centroids.txt\".split())\n",
    "plot()"
   ]
  },
  {
   "cell_type": "code",
   "execution_count": 24,
   "metadata": {},
   "outputs": [
    {
     "data": {
      "image/png": "[encoded data removed]",
      "text/plain": [
       "<Figure size 432x288 with 1 Axes>"
      ]
     },
     "metadata": {
      "needs_background": "light"
     },
     "output_type": "display_data"
    },
    {
     "data": {
      "image/png": "[encoded data removed]",
      "text/plain": [
       "<Figure size 432x288 with 1 Axes>"
      ]
     },
     "metadata": {
      "needs_background": "light"
     },
     "output_type": "display_data"
    }
   ],
   "source": [
    "subprocess.run(\"./kmeans -k 16 -d 16 --gpu -i input/random-n2048-d16-c16.txt -c > output/2048.centroids.txt\".split())\n",
    "plot()"
   ]
  },
  {
   "cell_type": "markdown",
   "metadata": {},
   "source": [
    "We can observe that the final centroids by our C++ code matches with the ones generated by the Pythons, Kmeans."
   ]
  }
 ],
 "metadata": {
  "kernelspec": {
   "display_name": "Python 3",
   "language": "python",
   "name": "python3"
  },
  "language_info": {
   "codemirror_mode": {
    "name": "ipython",
    "version": 3
   },
   "file_extension": ".py",
   "mimetype": "text/x-python",
   "name": "python",
   "nbconvert_exporter": "python",
   "pygments_lexer": "ipython3",
   "version": "3.8.10"
  }
 },
 "nbformat": 4,
 "nbformat_minor": 2
}
